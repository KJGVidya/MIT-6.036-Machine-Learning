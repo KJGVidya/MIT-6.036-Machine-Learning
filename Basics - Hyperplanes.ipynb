{
 "cells": [
  {
   "cell_type": "markdown",
   "id": "49043ec4",
   "metadata": {},
   "source": [
    "<h3>Hyperplanes and Separators"
   ]
  },
  {
   "cell_type": "markdown",
   "id": "7db4173c",
   "metadata": {},
   "source": [
    "1.1)<b> General hyperplane, distance to point.</b> <br><br>\n",
    "Let p be an arbitrary point in R<sup>d</sup>. Give a formula for the signed perpendicular distance from the hyperplane specified by θ,θ<sub>0</sub> to this point p."
   ]
  },
  {
   "attachments": {},
   "cell_type": "markdown",
   "id": "82637aaf",
   "metadata": {},
   "source": [
    "<div>\n",
    "<img src=\"images/Signed%20Distance.png\" width=\"400\"/>\n",
    "</div>"
   ]
  },
  {
   "cell_type": "markdown",
   "id": "4d4ff06f",
   "metadata": {},
   "source": [
    "θ is a column vector with d * 1 dimensions. Ex: For 2D, θ=[θ<sub>1</sub>,θ<sub>2</sub>], and θ<sub>0</sub> is constant<br>\n",
    "x is a column vector with d * n dimensions. d dimensions and n data points. Ex For 2D, x=[x<sub>1</sub>,x<sub>2</sub>]\n",
    "<br><br>\n",
    "\n",
    "<b>Equation of plane :</b><br><br>\n",
    "<b>Matrix form :</b>\n",
    "θ<sup>T</sup>x+θ<sub>0</sub>=0 <br> <br>\n",
    "<b>Dot Product :</b>\n",
    "θ.x+θ<sub>0</sub>=0\n",
    "\n",
    "Equation of a plane is given by the dot product of normal vectors and arbitrary points on the plane. θ is the normal vector. x is the point/positional vector on the plane. \n"
   ]
  },
  {
   "cell_type": "markdown",
   "id": "f0bd12e3",
   "metadata": {},
   "source": [
    "<b>Distance of P from the plane.</b><br><br>\n",
    "->Normal vector: θ. From Equation of plane.\n",
    "<br>\n",
    "->Positional vector: P is a point in the 2D space. Vector from plane to point P is given by P-x. Where x is a arbitrary point on the plane.<br>\n",
    "Ex: (0,0),(1,2) and (1,-1), (2,1) have same vector (1,2).<br>\n",
    "->Vector P is perpendicular to the plane. So dot product with Normal vector divided by length of normal vector should give length/distance of P from the plane.<br>\n",
    "i.e., θ.(P-x)/|θ|=(θ.P-θ.x)/|θ|<br>\n",
    "θ.x+θ<sub>0</sub> => θ<sub>0</sub>=-θ.x\n",
    "\n",
    "(θ.P+θ<sub>0</sub>)/|θ| is the distance of P from plane."
   ]
  },
  {
   "cell_type": "markdown",
   "id": "c6cde295",
   "metadata": {},
   "source": [
    "<b>Code for signed distance</b>"
   ]
  },
  {
   "cell_type": "code",
   "execution_count": 1,
   "id": "733cfcf8",
   "metadata": {},
   "outputs": [],
   "source": [
    "import numpy as np\n",
    "\n",
    "data=np.array([[5,2,1,7,1,9,2,3]\n",
    "             ,[8,3,9,1,0,2,1,8]])\n",
    "labels=np.array([[1,-1,-1,1,-1,1,-1,1]])\n",
    "th=np.array([[1],[-1]])\n",
    "th0=5"
   ]
  },
  {
   "cell_type": "code",
   "execution_count": 2,
   "id": "1f3274c9",
   "metadata": {},
   "outputs": [
    {
     "data": {
      "text/plain": [
       "array([[ 1.41421356,  2.82842712, -2.12132034,  7.77817459,  4.24264069,\n",
       "         8.48528137,  4.24264069,  0.        ]])"
      ]
     },
     "execution_count": 2,
     "metadata": {},
     "output_type": "execute_result"
    }
   ],
   "source": [
    "def cv(value_list):\n",
    "    '''Returns column vector'''\n",
    "    return np.array([value_list]).T\n",
    "\n",
    "def rv(value_list):\n",
    "    '''Returns row vector'''\n",
    "    return np.array([value_list])\n",
    "\n",
    "def length(col_v):\n",
    "    return (np.sum((col_v)**2))**(1/2)\n",
    "\n",
    "def signed_dist(x, th, th0):\n",
    "    return((np.dot(th.T,x)+th0)/length(th))\n",
    "\n",
    "signed_dist(data,th,th0)"
   ]
  },
  {
   "cell_type": "markdown",
   "id": "0e28125f",
   "metadata": {},
   "source": [
    "<b>Code for side of hyperplane"
   ]
  },
  {
   "cell_type": "markdown",
   "id": "e23dc5a0",
   "metadata": {},
   "source": [
    "Write a Python function that takes as input\n",
    "\n",
    "->a column vector x<br>\n",
    "->a column vector th that is of the same dimension as x<br>\n",
    "->a scalar th0<br><br>\n",
    "and returns<br><br>\n",
    "->+1 if x is on the positive side of the hyperplane encoded by (th, th0)<br>\n",
    "->0 if on the hyperplane<br>\n",
    "->-1 otherwise.<br>\n",
    "The answer should be a 2D array (a 1 by 1)."
   ]
  },
  {
   "cell_type": "code",
   "execution_count": 3,
   "id": "1acc3c5f",
   "metadata": {},
   "outputs": [
    {
     "data": {
      "text/plain": [
       "array([[ 1.,  1., -1.,  1.,  1.,  1.,  1.,  0.]])"
      ]
     },
     "execution_count": 3,
     "metadata": {},
     "output_type": "execute_result"
    }
   ],
   "source": [
    "def positive(x, th, th0):\n",
    "    n = np.sign(signed_dist(x, th, th0))\n",
    "    return n\n",
    "\n",
    "positive(data,th,th0)"
   ]
  },
  {
   "cell_type": "markdown",
   "id": "bb8774da",
   "metadata": {},
   "source": [
    "<b>Score"
   ]
  },
  {
   "cell_type": "markdown",
   "id": "934a4e8f",
   "metadata": {},
   "source": [
    "Write a procedure that takes as input<br>\n",
    "\n",
    "<b>data:</b> a d by n array of floats (representing n data points in d dimensions)<br>\n",
    "<b>labels:</b> a 1 by n array of elements in (+1, -1), representing target labels<br>\n",
    "<b>th:</b> a d by 1 array of floats that together with<br>\n",
    "<b>th0:</b> a single scalar or 1 by 1 array, represents a hyperplane<br>\n",
    "and returns the number of points for which the label is equal to the output of the positive function on the point."
   ]
  },
  {
   "cell_type": "code",
   "execution_count": 4,
   "id": "a3fc1043",
   "metadata": {},
   "outputs": [
    {
     "data": {
      "text/plain": [
       "4"
      ]
     },
     "execution_count": 4,
     "metadata": {},
     "output_type": "execute_result"
    }
   ],
   "source": [
    "def score(data, labels, th, th0):\n",
    "    return np.sum(positive(data,th,th0)==labels)\n",
    "\n",
    "score(data,labels,th,th0)"
   ]
  },
  {
   "cell_type": "code",
   "execution_count": 5,
   "id": "5d974874",
   "metadata": {},
   "outputs": [
    {
     "data": {
      "text/plain": [
       "array([[ True, False,  True,  True, False,  True, False, False]])"
      ]
     },
     "execution_count": 5,
     "metadata": {},
     "output_type": "execute_result"
    }
   ],
   "source": [
    "np.array(positive(data,th,th0)==labels)"
   ]
  },
  {
   "cell_type": "markdown",
   "id": "5448cd72",
   "metadata": {},
   "source": [
    "<b> Best Separator"
   ]
  },
  {
   "cell_type": "markdown",
   "id": "e40045b9",
   "metadata": {},
   "source": [
    "Now assume that we have some \"candidate\" classifiers that we want to pick the best one out of. Assume you have ths, a d by m array of m candidate θ's (each θ has dimension d by 1), and th0s, a 1 by m array of the corresponding m candidate θ<sub>0</sub>'s. Each of the θ, θ<sub>0</sub> pair represents a hyperplane that characterizes a binary classifier.<br>\n",
    "\n",
    "Write a procedure that takes as input<br>\n",
    "\n",
    "<b>data:</b> a d by n array of floats (representing n data points in d dimensions)<br>\n",
    "<b>labels:</b> a 1 by n array of elements in (+1, -1), representing target labels<br>\n",
    "<b>ths:</b> a d by m array of floats representing m candidate θ's (each θ has dimension d by 1)<br>\n",
    "<b>th0s:</b> a 1 by m array of the corresponding m candidate θ<sub>0</sub>'s.\n",
    "\n",
    "and finds the hyperplane with the highest score on the data and labels. In case of a tie, return the first hyperplane with the highest score, in the form of\n",
    "\n",
    "->a tuple of a d by 1 array and an offset in the form of 1 by 1 array."
   ]
  },
  {
   "cell_type": "code",
   "execution_count": 6,
   "id": "978b5141",
   "metadata": {},
   "outputs": [
    {
     "data": {
      "text/plain": [
       "(array([4, 8, 4, 4]),\n",
       " (array([[6],\n",
       "         [0]]), array([-13])))"
      ]
     },
     "execution_count": 6,
     "metadata": {},
     "output_type": "execute_result"
    }
   ],
   "source": [
    "def score_all(data, labels, ths, th0s):\n",
    "   pos =np.sum(positive(data,ths,th0s.T)==labels, axis=1)\n",
    "   return pos\n",
    "\n",
    "def best_separator(data, labels, ths, th0s):\n",
    "    max_index =np.argmax(score_all(data, labels, ths, th0s))\n",
    "    return cv(ths[:, max_index]),th0s[:, max_index]\n",
    "\n",
    "ths=np.array([[1,6,2,8],[2,0,-1,11]])\n",
    "th0s=np.array([[5,-13,9,7]])\n",
    "\n",
    "score_all(data, labels, ths, th0s), best_separator(data, labels, ths, th0s)"
   ]
  }
 ],
 "metadata": {
  "kernelspec": {
   "display_name": "Python 3 (ipykernel)",
   "language": "python",
   "name": "python3"
  },
  "language_info": {
   "codemirror_mode": {
    "name": "ipython",
    "version": 3
   },
   "file_extension": ".py",
   "mimetype": "text/x-python",
   "name": "python",
   "nbconvert_exporter": "python",
   "pygments_lexer": "ipython3",
   "version": "3.9.13"
  }
 },
 "nbformat": 4,
 "nbformat_minor": 5
}
